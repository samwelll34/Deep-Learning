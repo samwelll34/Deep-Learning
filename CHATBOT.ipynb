{
 "cells": [
  {
   "cell_type": "code",
   "execution_count": 1,
   "id": "9c6d593a",
   "metadata": {},
   "outputs": [],
   "source": [
    "import numpy as np\n",
    "import nltk\n",
    "import random\n",
    "import string"
   ]
  },
  {
   "cell_type": "code",
   "execution_count": 2,
   "id": "e6d0a959",
   "metadata": {},
   "outputs": [],
   "source": [
    "f=open('chatbot.txt','r',errors='ignore')\n",
    "raw_doc=f.read()"
   ]
  },
  {
   "cell_type": "code",
   "execution_count": 3,
   "id": "1673105b",
   "metadata": {},
   "outputs": [
    {
     "data": {
      "text/plain": [
       "<_io.TextIOWrapper name='chatbot.txt' mode='r' encoding='cp1252'>"
      ]
     },
     "execution_count": 3,
     "metadata": {},
     "output_type": "execute_result"
    }
   ],
   "source": [
    "f"
   ]
  },
  {
   "cell_type": "code",
   "execution_count": 4,
   "id": "29a0d3ce",
   "metadata": {},
   "outputs": [
    {
     "name": "stderr",
     "output_type": "stream",
     "text": [
      "[nltk_data] Downloading package punkt to\n",
      "[nltk_data]     C:\\Users\\samar\\AppData\\Roaming\\nltk_data...\n",
      "[nltk_data]   Package punkt is already up-to-date!\n",
      "[nltk_data] Downloading package wordnet to\n",
      "[nltk_data]     C:\\Users\\samar\\AppData\\Roaming\\nltk_data...\n",
      "[nltk_data]   Package wordnet is already up-to-date!\n",
      "[nltk_data] Downloading package omw-1.4 to\n",
      "[nltk_data]     C:\\Users\\samar\\AppData\\Roaming\\nltk_data...\n",
      "[nltk_data]   Package omw-1.4 is already up-to-date!\n"
     ]
    }
   ],
   "source": [
    "raw_doc=raw_doc.lower()\n",
    "nltk.download('punkt')\n",
    "nltk.download('wordnet')\n",
    "nltk.download('omw-1.4')\n",
    "sentence_tokens=nltk.sent_tokenize(raw_doc)\n",
    "word_tokens=nltk.word_tokenize(raw_doc)"
   ]
  },
  {
   "cell_type": "code",
   "execution_count": 5,
   "id": "093ce9e7",
   "metadata": {},
   "outputs": [],
   "source": [
    "sentence_tokens=nltk.sent_tokenize(raw_doc)\n",
    "word_tokens=nltk.word_tokenize(raw_doc)"
   ]
  },
  {
   "cell_type": "code",
   "execution_count": 6,
   "id": "6c3f429b",
   "metadata": {},
   "outputs": [
    {
     "data": {
      "text/plain": [
       "'parts of this article (those related to everything, particularly sections after the intro) need to be updated.'"
      ]
     },
     "execution_count": 6,
     "metadata": {},
     "output_type": "execute_result"
    }
   ],
   "source": [
    "sentence_tokens[2]"
   ]
  },
  {
   "cell_type": "code",
   "execution_count": 7,
   "id": "0cbbe916",
   "metadata": {},
   "outputs": [
    {
     "data": {
      "text/plain": [
       "'wikipediathe'"
      ]
     },
     "execution_count": 7,
     "metadata": {},
     "output_type": "execute_result"
    }
   ],
   "source": [
    "word_tokens[2]"
   ]
  },
  {
   "cell_type": "code",
   "execution_count": 8,
   "id": "cb9e2fb2",
   "metadata": {},
   "outputs": [],
   "source": [
    "lemmer=nltk.stem.WordNetLemmatizer()\n",
    "def LemTokens(tokens):\n",
    "    return [lemmer.lemmatize(token) for token in tokens]\n",
    "remove_punc_dict =dict((ord(punct),None) for punct in string.punctuation)\n",
    "def LemNormalize (text):\n",
    "    return LemTokens(nltk.word_tokenize(text.lower().translate(remove_punc_dict)))\n",
    "    "
   ]
  },
  {
   "cell_type": "code",
   "execution_count": 9,
   "id": "e76431f8",
   "metadata": {},
   "outputs": [],
   "source": [
    "greet_inputs=('hello','hi','wassup','hey','how are you?')\n",
    "greet_responses=('hello', 'hey there','im good how are you')\n",
    "def greet(sentence):\n",
    "    for word in sentence.split():\n",
    "        if word.lower() in greet_inputs:\n",
    "            return random.choice(greet_responses)"
   ]
  },
  {
   "cell_type": "code",
   "execution_count": 10,
   "id": "0f44a094",
   "metadata": {},
   "outputs": [],
   "source": [
    "from sklearn.feature_extraction.text import TfidfVectorizer\n",
    "from sklearn.metrics.pairwise import cosine_similarity"
   ]
  },
  {
   "cell_type": "code",
   "execution_count": 17,
   "id": "d85c9ed0",
   "metadata": {},
   "outputs": [],
   "source": [
    "def response(user_response):\n",
    "    robo1_response=''\n",
    "    TfidfVec=TfidfVectorizer(tokenizer=LemNormalize,stop_words='english')\n",
    "    tfidf=TfidfVec.fit_transform(sentence_tokens)\n",
    "    vals=cosine_similarity(tfidf[-1],tfidf)\n",
    "    idx=vals.argsort()[0][-2]\n",
    "    flat=vals.flatten()\n",
    "    flat.sort\n",
    "    req_tfidf= flat[-2]\n",
    "    if(req_tfidf==0):\n",
    "        robo1_response=robo1_response +'I am sorry I am unable to understand you'\n",
    "        return robo1_response\n",
    "    else:\n",
    "        robo1_response=robo1_response+sentence_tokens[idx]\n",
    "        return robo1_response"
   ]
  },
  {
   "cell_type": "code",
   "execution_count": null,
   "id": "233524eb",
   "metadata": {},
   "outputs": [
    {
     "name": "stdout",
     "output_type": "stream",
     "text": [
      "hello hey there I am siri write whatever you want to ask me after greeting me and to end write bye!\n",
      "Hello\n",
      "Bot: hey there\n",
      "What is Turing test\n",
      "Bot: what is turing test\n",
      "what is a chatbot\n",
      "Bot: I am sorry I am unable to understand you\n",
      "Chatbot\n",
      "Bot: I am sorry I am unable to understand you\n",
      "chatbot\n",
      "Bot: I am sorry I am unable to understand you\n"
     ]
    }
   ],
   "source": [
    "flag=True\n",
    "print('hello hey there I am siri write whatever you want to ask me after greeting me and to end write bye!')\n",
    "while(flag==True):\n",
    "    user_response=input()\n",
    "    user_response=user_response.lower()\n",
    "    if(user_response!='bye'):\n",
    "        if (user_response=='thanks'or user_response=='thank you'):\n",
    "            flag=False\n",
    "            print('Bot: You are welcome')\n",
    "        else:\n",
    "            if(greet(user_response)!=None):\n",
    "                print('Bot: '+greet(user_response))\n",
    "            else:\n",
    "                sentence_tokens.append(user_response)\n",
    "                word_tokens=word_tokens + nltk.word_tokenize(user_response)\n",
    "                final_words=list(set(word_tokens))\n",
    "                print('Bot: ',end='')\n",
    "                print(response(user_response))\n",
    "                sentence_tokens.remove(user_response)\n",
    "    else:\n",
    "        flag=False\n",
    "        print('Bot: Goodbye!')"
   ]
  },
  {
   "cell_type": "code",
   "execution_count": null,
   "id": "49c85369",
   "metadata": {},
   "outputs": [],
   "source": []
  }
 ],
 "metadata": {
  "kernelspec": {
   "display_name": "Python 3 (ipykernel)",
   "language": "python",
   "name": "python3"
  },
  "language_info": {
   "codemirror_mode": {
    "name": "ipython",
    "version": 3
   },
   "file_extension": ".py",
   "mimetype": "text/x-python",
   "name": "python",
   "nbconvert_exporter": "python",
   "pygments_lexer": "ipython3",
   "version": "3.11.5"
  }
 },
 "nbformat": 4,
 "nbformat_minor": 5
}
